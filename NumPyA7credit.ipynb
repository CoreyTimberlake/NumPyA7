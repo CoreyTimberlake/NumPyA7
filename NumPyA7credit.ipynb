{
  "nbformat": 4,
  "nbformat_minor": 0,
  "metadata": {
    "colab": {
      "provenance": []
    },
    "kernelspec": {
      "name": "python3",
      "display_name": "Python 3"
    },
    "language_info": {
      "name": "python"
    }
  },
  "cells": [
    {
      "cell_type": "code",
      "execution_count": 244,
      "metadata": {
        "colab": {
          "base_uri": "https://localhost:8080/"
        },
        "id": "k8zhYfTXtn9z",
        "outputId": "29e7edc0-451a-4b26-f017-802fd18e3c9e"
      },
      "outputs": [
        {
          "output_type": "stream",
          "name": "stdout",
          "text": [
            "[14, 6, 12]\n"
          ]
        }
      ],
      "source": [
        "import numpy as np\n",
        "\n",
        "q1 = np.arange(2,17,2)\n",
        "#print(q1)\n",
        "Q1 = [q1[6], q1[2], q1[5]]\n",
        "#print(Q1)\n",
        "\n",
        "q2 = [[1,3,2], [0,7,4]]\n",
        "q2 = np.vstack(q2)\n",
        "#print(q2)\n",
        "\n",
        "Q2 = q1[q2]\n",
        "#print(Q2)\n",
        "\n",
        "Q3 = np.reshape(q1, (4,2))\n",
        "#print(Q3)\n",
        "\n",
        "Q4 = np.flip(Q3[0])\n",
        "#print(Q4)\n",
        "\n",
        "Q5 = Q3[0:-2, :-1]\n",
        "#print(Q5)\n",
        "\n",
        "np.random.seed(6)\n",
        "Q6 = np.random.randint(0,10,10)\n",
        "Q6.sort()\n",
        "#print(Q6)\n",
        "\n",
        "q7 = np.random.randint(0, 10, (4, 5))\n",
        "#print(q7)\n",
        "Q7 = np.sort(q7, axis = 0)\n",
        "#print(Q7)\n",
        "\n",
        "Q8 = np.sort(q7, axis = 1)\n",
        "#print(Q8)\n",
        "q9 = np.array([('Grape', 'Purple', 3), ('Apple', 'Red', 2), ('Banana', 'Yellow', 1)],\n",
        "             dtype=[('Fruit', 'U10'), ('Color', 'U10'), ('Ranking', 'i4')])\n",
        "\n",
        "Q9 = q9['Color']\n",
        "\n",
        "\n",
        "Q10 = q9[2]\n",
        "\n",
        "Q11 = q9[1:]\n",
        "#print(Q11)"
      ]
    }
  ]
}